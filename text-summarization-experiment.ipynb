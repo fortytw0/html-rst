{
 "cells": [
  {
   "cell_type": "code",
   "execution_count": 1,
   "metadata": {},
   "outputs": [],
   "source": [
    "import os\n",
    "import re"
   ]
  },
  {
   "cell_type": "code",
   "execution_count": 6,
   "metadata": {},
   "outputs": [],
   "source": [
    "raw_test_texts = []\n",
    "raw_train_texts = []"
   ]
  },
  {
   "cell_type": "code",
   "execution_count": 12,
   "metadata": {},
   "outputs": [],
   "source": [
    "for root, dir, files in os.walk(\"/scratch/summit/dasr8731/html-rst/rst_discourse_treebank/data/RSTtrees-WSJ-main-1.0\"):\n",
    "    \n",
    "    for f in files : \n",
    "        \n",
    "        if 'out.lisp.name' in f : \n",
    "                \n",
    "            text = open(os.path.join(root, f)).read() \n",
    "            \n",
    "            if 'TRAIN' in root :\n",
    "                raw_train_texts.append(text) \n",
    "                \n",
    "            else : \n",
    "                raw_test_texts.append(text)\n",
    "    "
   ]
  },
  {
   "cell_type": "code",
   "execution_count": 14,
   "metadata": {},
   "outputs": [],
   "source": [
    "processed_test_texts = []\n",
    "processed_train_texts = []\n",
    "\n",
    "text_capture = '\\((span|leaf.*?)\\).*\\(text (.*?)\\)'"
   ]
  },
  {
   "cell_type": "code",
   "execution_count": 23,
   "metadata": {},
   "outputs": [],
   "source": [
    "for text in raw_test_texts : \n",
    "    \n",
    "    processed = \"\"\n",
    "    \n",
    "    \n",
    "    for index , line in enumerate(text.split('\\n')) : \n",
    "    \n",
    "        text = re.findall(text_capture , line)\n",
    "\n",
    "        if text : \n",
    "\n",
    "            index = int(text[0][0].replace('leaf ' , ''))\n",
    "\n",
    "            processed += text[0][1]\n",
    "            \n",
    "    \n",
    "    processed_test_texts.append(processed)"
   ]
  },
  {
   "cell_type": "code",
   "execution_count": 27,
   "metadata": {},
   "outputs": [],
   "source": [
    "for text in raw_train_texts : \n",
    "    \n",
    "    processed = \"\"\n",
    "    \n",
    "    \n",
    "    for index , line in enumerate(text.split('\\n')) : \n",
    "    \n",
    "        text = re.findall(text_capture , line)\n",
    "\n",
    "        if text : \n",
    "\n",
    "            index = int(text[0][0].replace('leaf ' , ''))\n",
    "\n",
    "            processed += text[0][1]\n",
    "            \n",
    "    \n",
    "    processed_train_texts.append(processed)"
   ]
  },
  {
   "cell_type": "code",
   "execution_count": null,
   "metadata": {},
   "outputs": [],
   "source": []
  }
 ],
 "metadata": {
  "kernelspec": {
   "display_name": "Python 3",
   "language": "python",
   "name": "python3"
  },
  "language_info": {
   "codemirror_mode": {
    "name": "ipython",
    "version": 3
   },
   "file_extension": ".py",
   "mimetype": "text/x-python",
   "name": "python",
   "nbconvert_exporter": "python",
   "pygments_lexer": "ipython3",
   "version": "3.7.3"
  }
 },
 "nbformat": 4,
 "nbformat_minor": 4
}
